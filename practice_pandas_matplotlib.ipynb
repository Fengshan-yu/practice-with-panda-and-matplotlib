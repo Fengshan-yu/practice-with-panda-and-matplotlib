{
 "cells": [
  {
   "cell_type": "code",
   "execution_count": 1,
   "id": "13ee1c02",
   "metadata": {},
   "outputs": [],
   "source": [
    "import pandas as pd\n",
    "import datetime as dt"
   ]
  },
  {
   "cell_type": "code",
   "execution_count": 2,
   "id": "cbaf5105",
   "metadata": {},
   "outputs": [],
   "source": [
    "chase = pd.DataFrame()\n",
    "#set up empty dataframe"
   ]
  },
  {
   "cell_type": "code",
   "execution_count": 3,
   "id": "4f697a6f",
   "metadata": {},
   "outputs": [],
   "source": [
    "files = [\"Chase_202101.xlsx\", \"Chase_202102.xlsx\",  \"Chase_202104.xlsx\", \"Chase_202105.xlsx\",\"Chase_202106.xlsx\",\"Chase_202103.xlsx\",\"Chase_202112.xlsx\",\"Chase_202012.xlsx\", \"Chase_202107.xlsx\", \"Chase_202108.xlsx\",  \"Chase_202109.xlsx\", \"Chase_202110.xlsx\",  \"Chase_202111.xlsx\"]"
   ]
  },
  {
   "cell_type": "code",
   "execution_count": 4,
   "id": "92edd34e",
   "metadata": {},
   "outputs": [],
   "source": [
    "for file in files:\n",
    "    df = pd.read_excel(file)\n",
    "    df[\"amount\"] = abs(df[\"Amount\"])\n",
    "    #change the negative numbers in the excel file to positive ones.\n",
    "    df[\"Year\"] = pd.DatetimeIndex(df[\"Transaction Date\"]).year\n",
    "    #add a column of the year so that it is easy to sort based on time\n",
    "    chase=chase.append(df, ignore_index=True)\n",
    "chase.to_excel(\"chase_2021.xlsx\", index=False, sheet_name=\"chase\")"
   ]
  },
  {
   "cell_type": "code",
   "execution_count": 5,
   "id": "8de1f435",
   "metadata": {},
   "outputs": [],
   "source": [
    "\n",
    "new_df=pd.read_excel(\"chase_2021.xlsx\")"
   ]
  },
  {
   "cell_type": "code",
   "execution_count": 6,
   "id": "db7c9b6a",
   "metadata": {},
   "outputs": [
    {
     "data": {
      "text/plain": [
       "<bound method NDFrame.head of     Transaction Date  Post Date               Description           Category  \\\n",
       "0         2021-02-03 2021-02-04    WASH EYE PHY CHEV CHAS  Health & Wellness   \n",
       "1         2021-02-03 2021-02-04    MCDONALD'S M5089 OF MD       Food & Drink   \n",
       "2         2021-02-01 2021-02-02           KIDS ADVENTURES           Personal   \n",
       "3         2021-01-28 2021-01-29     WALTER REED CAFE 8901  Bills & Utilities   \n",
       "4         2021-01-26 2021-01-27  LOUDOUN MEDICAL GROUP PC  Health & Wellness   \n",
       "..               ...        ...                       ...                ...   \n",
       "523       2021-11-08 2021-11-10     WALTER REED CAFE 8901  Bills & Utilities   \n",
       "524       2021-11-07 2021-11-09  CAVA MEZZE GRILL MONTGOM       Food & Drink   \n",
       "525       2021-11-07 2021-11-07              BOOST MOBILE  Bills & Utilities   \n",
       "526       2021-11-04 2021-11-05         MCDONALD'S F37184       Food & Drink   \n",
       "527       2021-11-04 2021-11-05     WALTER REED CAFE 8901  Bills & Utilities   \n",
       "\n",
       "     Type  Amount  Memo  amount  Year  \n",
       "0    Sale  -31.56   NaN   31.56  2021  \n",
       "1    Sale   -1.80   NaN    1.80  2021  \n",
       "2    Sale -966.00   NaN  966.00  2021  \n",
       "3    Sale   -4.10   NaN    4.10  2021  \n",
       "4    Sale  -11.01   NaN   11.01  2021  \n",
       "..    ...     ...   ...     ...   ...  \n",
       "523  Sale   -3.50   NaN    3.50  2021  \n",
       "524  Sale   -6.20   NaN    6.20  2021  \n",
       "525  Sale   -5.00   NaN    5.00  2021  \n",
       "526  Sale   -6.88   NaN    6.88  2021  \n",
       "527  Sale   -3.25   NaN    3.25  2021  \n",
       "\n",
       "[528 rows x 9 columns]>"
      ]
     },
     "execution_count": 6,
     "metadata": {},
     "output_type": "execute_result"
    }
   ],
   "source": [
    "new_df.head"
   ]
  },
  {
   "cell_type": "code",
   "execution_count": 20,
   "id": "fc55ad23",
   "metadata": {},
   "outputs": [],
   "source": [
    "#sort all the transaction in 2021\n",
    "df=new_df.loc[new_df[\"Year\"]==2021]"
   ]
  },
  {
   "cell_type": "code",
   "execution_count": 24,
   "id": "d157fa88",
   "metadata": {},
   "outputs": [],
   "source": [
    "walter= df.loc[df[\"Description\"].str.contains(\"WALTER\")].count()[0]"
   ]
  },
  {
   "cell_type": "code",
   "execution_count": 28,
   "id": "316fbb4e",
   "metadata": {},
   "outputs": [],
   "source": [
    "pizza=df.loc[df[\"Description\"].str.contains(\"POTOMAC\")].count()[0]"
   ]
  },
  {
   "cell_type": "markdown",
   "id": "aa86b1f4",
   "metadata": {},
   "source": [
    "df.loc[df[\"Description\"].str.contains(\"MCDONALD\")]"
   ]
  },
  {
   "cell_type": "code",
   "execution_count": 31,
   "id": "c0723408",
   "metadata": {},
   "outputs": [],
   "source": [
    "mc=df.loc[df[\"Description\"].str.contains(\"MCDONALD\")].count()[0]"
   ]
  },
  {
   "cell_type": "code",
   "execution_count": 33,
   "id": "455e606c",
   "metadata": {},
   "outputs": [],
   "source": [
    "import numpy as np\n",
    "import matplotlib.pyplot as plt"
   ]
  },
  {
   "cell_type": "code",
   "execution_count": 44,
   "id": "e142edc1",
   "metadata": {},
   "outputs": [
    {
     "data": {
      "image/png": "[encoded data removed]",
      "text/plain": [
       "<Figure size 576x360 with 1 Axes>"
      ]
     },
     "metadata": {
      "needs_background": "light"
     },
     "output_type": "display_data"
    }
   ],
   "source": [
    "plt.figure(figsize=(8,5))\n",
    "plt.title(\"Overview of 2021 Spending\", fontdict={\"fontweight\":\"bold\", \"fontsize\":18})\n",
    "\n",
    "bins = [-1000, -750, -500, -250, 0, 250, 500, 750, 1000]\n",
    "plt.hist(df.Amount, bins=bins)\n",
    "plt.xlabel(\"US Dollars\",fontdict={\"fontweight\":\"bold\", \"fontsize\":12})\n",
    "plt.ylabel(\"Number of Transaction\", fontdict={\"fontweight\":\"bold\", \"fontsize\":12})\n",
    "\n",
    "plt.savefig(\"Chase_histgraph.png\", dpi=300)\n",
    "\n",
    "plt.show()"
   ]
  },
  {
   "cell_type": "code",
   "execution_count": 45,
   "id": "6609f967",
   "metadata": {},
   "outputs": [],
   "source": [
    "labels=[\"Walter Cafe\", \"Potomac Pizza\", \"MCDONALD\"]"
   ]
  },
  {
   "cell_type": "code",
   "execution_count": 50,
   "id": "f4626927",
   "metadata": {},
   "outputs": [
    {
     "data": {
      "image/png": "[encoded data removed]",
      "text/plain": [
       "<Figure size 432x288 with 1 Axes>"
      ]
     },
     "metadata": {},
     "output_type": "display_data"
    }
   ],
   "source": [
    "plt.title(\"Distribution of Food Purchase in 2021\",fontdict={\"fontweight\":\"bold\", \"fontsize\":16})\n",
    "\n",
    "explode=[0, 0, .4]\n",
    "\n",
    "plt.pie([walter, pizza, mc], labels = labels, autopct = \"%.2f %%\", explode = explode)\n",
    "\n",
    "plt.savefig(\"Chase_piechart.png\", dpi=300)\n",
    "plt.show()"
   ]
  },
  {
   "cell_type": "code",
   "execution_count": 51,
   "id": "8c6167d2",
   "metadata": {},
   "outputs": [],
   "source": [
    "A_walter= df.loc[df[\"Description\"].str.contains(\"WALTER\")].amount\n",
    "A_pizza=df.loc[df[\"Description\"].str.contains(\"POTOMAC\")].amount\n",
    "A_mc=df.loc[df[\"Description\"].str.contains(\"MCDONALD\")].amount"
   ]
  },
  {
   "cell_type": "code",
   "execution_count": 55,
   "id": "de91412a",
   "metadata": {},
   "outputs": [
    {
     "data": {
      "image/png": "[encoded data removed]",
      "text/plain": [
       "<Figure size 648x432 with 1 Axes>"
      ]
     },
     "metadata": {
      "needs_background": "light"
     },
     "output_type": "display_data"
    }
   ],
   "source": [
    "plt.figure(figsize=(9, 6))\n",
    "plt.title(\"Boxplot for Food Purchase in 2021\",fontdict={\"fontweight\":\"bold\", \"fontsize\":18})\n",
    "\n",
    "plt.boxplot([A_walter, A_pizza, A_mc], labels=labels)\n",
    "\n",
    "plt.xlabel(\"Category\", fontdict={\"fontweight\":\"bold\", \"fontsize\":14})\n",
    "plt.ylabel(\"US Dollars\", fontdict={\"fontweight\":\"bold\", \"fontsize\":14})\n",
    "\n",
    "plt.savefig(\"Boxplot for Food in 2021\", dpi=300)\n",
    "plt.show()\n"
   ]
  },
  {
   "cell_type": "code",
   "execution_count": 1,
   "id": "2389b397",
   "metadata": {},
   "outputs": [],
   "source": [
    "import glob"
   ]
  },
  {
   "cell_type": "code",
   "execution_count": 5,
   "id": "7d13ac30",
   "metadata": {},
   "outputs": [],
   "source": [
    "path =\"C:\\\\Users\\\\Fengs\\\\chase\""
   ]
  },
  {
   "cell_type": "code",
   "execution_count": 6,
   "id": "de9574d3",
   "metadata": {},
   "outputs": [],
   "source": [
    "files=glob.glob(path+\"\\*.csv\")"
   ]
  },
  {
   "cell_type": "code",
   "execution_count": 10,
   "id": "0dfc57f0",
   "metadata": {},
   "outputs": [],
   "source": [
    "for file in files:\n",
    "    df=pd.read_csv(file)\n",
    "    chase=chase.append(df)\n",
    "chase.to_csv(\"chase2021.csv\")"
   ]
  },
  {
   "cell_type": "code",
   "execution_count": 8,
   "id": "661eb486",
   "metadata": {},
   "outputs": [],
   "source": [
    "import pandas as pd"
   ]
  },
  {
   "cell_type": "code",
   "execution_count": 9,
   "id": "809577c1",
   "metadata": {},
   "outputs": [],
   "source": [
    "chase=pd.DataFrame()"
   ]
  },
  {
   "cell_type": "code",
   "execution_count": 12,
   "id": "6b67bb7e",
   "metadata": {},
   "outputs": [
    {
     "data": {
      "text/plain": [
       "<bound method NDFrame.head of    Transaction Date   Post Date               Description           Category  \\\n",
       "0        12/30/2020  12/31/2020  LOUDOUN MEDICAL GROUP PC  Health & Wellness   \n",
       "1        12/24/2020  12/25/2020    DOORDASH*HOT POT LEGEN       Food & Drink   \n",
       "2        12/23/2020  12/25/2020    DIRECT LIQUIDATION LLP           Shopping   \n",
       "3        12/24/2020  12/24/2020    LCA*LABCORP (LCBS) WEB  Health & Wellness   \n",
       "4        12/23/2020  12/23/2020   Payment Thank You - Web                NaN   \n",
       "..              ...         ...                       ...                ...   \n",
       "52        12/3/2021   12/5/2021     WALTER REED CAFE 8901  Bills & Utilities   \n",
       "53        12/2/2021   12/5/2021     WALTER REED CAFE 8901  Bills & Utilities   \n",
       "54        12/2/2021   12/5/2021    CITY OF ROCKVILLE RECR  Bills & Utilities   \n",
       "55        12/2/2021   12/5/2021    CITY OF ROCKVILLE RECR  Bills & Utilities   \n",
       "56        12/3/2021   12/5/2021            McDonalds 1797       Food & Drink   \n",
       "\n",
       "       Type   Amount  Memo  \n",
       "0      Sale  -151.98   NaN  \n",
       "1      Sale    -6.94   NaN  \n",
       "2      Sale  -610.93   NaN  \n",
       "3      Sale    -8.09   NaN  \n",
       "4   Payment  1684.09   NaN  \n",
       "..      ...      ...   ...  \n",
       "52     Sale    -4.05   NaN  \n",
       "53     Sale    -4.20   NaN  \n",
       "54     Sale   -95.00   NaN  \n",
       "55     Sale   -95.00   NaN  \n",
       "56     Sale    -1.80   NaN  \n",
       "\n",
       "[528 rows x 7 columns]>"
      ]
     },
     "execution_count": 12,
     "metadata": {},
     "output_type": "execute_result"
    }
   ],
   "source": [
    "chase.head"
   ]
  },
  {
   "cell_type": "code",
   "execution_count": null,
   "id": "76f54e2a",
   "metadata": {},
   "outputs": [],
   "source": []
  }
 ],
 "metadata": {
  "kernelspec": {
   "display_name": "Python 3 (ipykernel)",
   "language": "python",
   "name": "python3"
  },
  "language_info": {
   "codemirror_mode": {
    "name": "ipython",
    "version": 3
   },
   "file_extension": ".py",
   "mimetype": "text/x-python",
   "name": "python",
   "nbconvert_exporter": "python",
   "pygments_lexer": "ipython3",
   "version": "3.9.7"
  }
 },
 "nbformat": 4,
 "nbformat_minor": 5
}
